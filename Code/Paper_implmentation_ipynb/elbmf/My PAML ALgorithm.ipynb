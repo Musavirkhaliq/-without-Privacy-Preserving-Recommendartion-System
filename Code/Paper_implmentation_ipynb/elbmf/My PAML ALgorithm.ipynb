{
 "cells": [
  {
   "cell_type": "code",
   "execution_count": 741,
   "id": "6b7edcd9",
   "metadata": {
    "scrolled": true
   },
   "outputs": [
    {
     "name": "stdout",
     "output_type": "stream",
     "text": [
      "A= [[1, 0, 0, 1, 0], [1, 0, 1, 0, 1], [0, 1, 1, 0, 1], [0, 1, 0, 0, 1], [1, 1, 1, 0, 1]]\n",
      "U= [[1.9, 2.5, 1.05], [2.2, 4.2, 0.9], [4.1, 0.36, 3.1], [5.0, 3.1, 2.36], [1.2, 7.002, 6.3]]\n",
      "V= [[1.2, 6.21, 1.09, 8.01, 2.36], [2.1, 7.0, 6.36, 0.63, 1.01], [1.002, 9, 6.2, 5.8, 0.05]]\n",
      "X= [[2, 0.63, 1.2, 1.2], [2.1, 0.1, 0.6, 0.3], [6.3, 1.2, 5.6, 0.19]]\n"
     ]
    }
   ],
   "source": [
    "A = [[1, 0, 0, 1, 0],[1, 0, 1, 0, 1], [0, 1, 1, 0, 1], [0, 1, 0, 0, 1], [1, 1, 1, 0, 1]]\n",
    "U = [[1.9 ,2.5 ,1.05], [2.2, 4.2, 0.9], [4.1, 0.36, 3.1], [5.0, 3.1, 2.36],[1.2, 7.002, 6.3]]\n",
    "V = [[1.2, 6.21, 1.09, 8.01, 2.36], [2.1, 7.0, 6.36, 0.63, 1.01], [1.002, 9, 6.2, 5.8, 0.05]]\n",
    "X=[[2,0.63,1.2,1.2],[2.1,0.1,0.6,0.3],[6.3,1.2,5.6,0.19]]\n",
    "print(\"A=\",A)\n",
    "print(\"U=\",U)\n",
    "print(\"V=\",V)\n",
    "print(\"X=\",X)"
   ]
  },
  {
   "cell_type": "code",
   "execution_count": 742,
   "id": "f1373e76",
   "metadata": {},
   "outputs": [
    {
     "name": "stdout",
     "output_type": "stream",
     "text": [
      "A=\n",
      " [[1 0 0 1 0]\n",
      " [1 0 1 0 1]\n",
      " [0 1 1 0 1]\n",
      " [0 1 0 0 1]\n",
      " [1 1 1 0 1]]\n",
      "U=\n",
      " [[1.9   2.5   1.05 ]\n",
      " [2.2   4.2   0.9  ]\n",
      " [4.1   0.36  3.1  ]\n",
      " [5.    3.1   2.36 ]\n",
      " [1.2   7.002 6.3  ]]\n",
      "V=\n",
      " [[1.2   6.21  1.09  8.01  2.36 ]\n",
      " [2.1   7.    6.36  0.63  1.01 ]\n",
      " [1.002 9.    6.2   5.8   0.05 ]]\n",
      "X=\n",
      " [[2.   0.63 1.2  1.2 ]\n",
      " [2.1  0.1  0.6  0.3 ]\n",
      " [6.3  1.2  5.6  0.19]]\n"
     ]
    }
   ],
   "source": [
    "import numpy as np\n",
    "A=np.array(A)\n",
    "U=np.array(U)\n",
    "V=np.array(V)\n",
    "X=np.array(X)\n",
    "print(\"A=\\n\",A)\n",
    "print(\"U=\\n\",U)\n",
    "print(\"V=\\n\",V)\n",
    "print(\"X=\\n\",X)"
   ]
  },
  {
   "cell_type": "markdown",
   "id": "20a8543e",
   "metadata": {},
   "source": [
    "# integrality_gap_elastic"
   ]
  },
  {
   "cell_type": "code",
   "execution_count": 535,
   "id": "d06e9aef",
   "metadata": {},
   "outputs": [],
   "source": [
    "def integrality_gap_elastic(e, kappa, lambda_):\n",
    "    return min(kappa * abs(e) + lambda_ * e**2, kappa * abs(e - 1) + lambda_ * (e - 1)**2)\n"
   ]
  },
  {
   "cell_type": "code",
   "execution_count": 536,
   "id": "8c74ec47",
   "metadata": {
    "scrolled": true
   },
   "outputs": [
    {
     "data": {
      "text/plain": [
       "0.03"
      ]
     },
     "execution_count": 536,
     "metadata": {},
     "output_type": "execute_result"
    }
   ],
   "source": [
    "integrality_gap_elastic(2,0.01,0.02)"
   ]
  },
  {
   "cell_type": "markdown",
   "id": "754ca28e",
   "metadata": {},
   "source": [
    "# regularizer_elbmf"
   ]
  },
  {
   "cell_type": "code",
   "execution_count": 537,
   "id": "8c293205",
   "metadata": {},
   "outputs": [],
   "source": [
    "def regularizer_elbmf(x, l1reg, l2reg):\n",
    "    s=0\n",
    "    for i in range(x.shape[0]):\n",
    "        for j in range(x.shape[1]):\n",
    "            s+=(integrality_gap_elastic(x[i][j], l1reg, l2reg))\n",
    "    return s\n"
   ]
  },
  {
   "cell_type": "code",
   "execution_count": 538,
   "id": "e453c1ea",
   "metadata": {},
   "outputs": [
    {
     "data": {
      "text/plain": [
       "0.117986"
      ]
     },
     "execution_count": 538,
     "metadata": {},
     "output_type": "execute_result"
    }
   ],
   "source": [
    "regularizer_elbmf(X,0.001,0.002)"
   ]
  },
  {
   "cell_type": "markdown",
   "id": "fcbda218",
   "metadata": {},
   "source": [
    "# proxel_1"
   ]
  },
  {
   "cell_type": "code",
   "execution_count": 539,
   "id": "0f9882c2",
   "metadata": {},
   "outputs": [],
   "source": [
    "def proxel_1(x, k, l):\n",
    "    return (x - k * np.sign(x) if x <= 0.5 else (x - k * np.sign(x - 1) + l)) / (1 + l)"
   ]
  },
  {
   "cell_type": "code",
   "execution_count": 540,
   "id": "90c8e65f",
   "metadata": {},
   "outputs": [
    {
     "data": {
      "text/plain": [
       "3.230769230769231"
      ]
     },
     "execution_count": 540,
     "metadata": {},
     "output_type": "execute_result"
    }
   ],
   "source": [
    "proxel_1(4,0.1,0.3)"
   ]
  },
  {
   "cell_type": "markdown",
   "id": "afb88624",
   "metadata": {},
   "source": [
    "# proxelp"
   ]
  },
  {
   "cell_type": "code",
   "execution_count": 541,
   "id": "863ddf50",
   "metadata": {},
   "outputs": [],
   "source": [
    "def proxelp(x, k, l):\n",
    "    return np.maximum(proxel_1(x, k, l), np.zeros_like(x))\n"
   ]
  },
  {
   "cell_type": "code",
   "execution_count": 542,
   "id": "b2e980ff",
   "metadata": {
    "scrolled": true
   },
   "outputs": [
    {
     "data": {
      "text/plain": [
       "2.5833333333333335"
      ]
     },
     "execution_count": 542,
     "metadata": {},
     "output_type": "execute_result"
    }
   ],
   "source": [
    "proxelp(3, 0.1, 0.2)"
   ]
  },
  {
   "cell_type": "markdown",
   "id": "4f46d87c",
   "metadata": {},
   "source": [
    "# prox_elbmf"
   ]
  },
  {
   "cell_type": "code",
   "execution_count": 543,
   "id": "637a0a23",
   "metadata": {},
   "outputs": [],
   "source": [
    "def prox_elbmf(X, k, l):\n",
    "    for i in range(X.shape[0]):\n",
    "        for j in range(X.shape[1]):\n",
    "            X[i][j] = proxelp(X[i][j], k, l)\n"
   ]
  },
  {
   "cell_type": "code",
   "execution_count": 544,
   "id": "5a9e8beb",
   "metadata": {},
   "outputs": [],
   "source": [
    "prox_elbmf(X, 0.01, 0.02)"
   ]
  },
  {
   "cell_type": "code",
   "execution_count": 545,
   "id": "4d8a3956",
   "metadata": {},
   "outputs": [
    {
     "name": "stdout",
     "output_type": "stream",
     "text": [
      "[[1.97058824 0.64705882 1.18627451 1.18627451]\n",
      " [2.06862745 0.08823529 0.61764706 0.28431373]\n",
      " [6.18627451 1.18627451 5.5        0.17647059]]\n"
     ]
    }
   ],
   "source": [
    "print(X)"
   ]
  },
  {
   "cell_type": "markdown",
   "id": "2b8b47dd",
   "metadata": {},
   "source": [
    "# proxelb"
   ]
  },
  {
   "cell_type": "code",
   "execution_count": 546,
   "id": "091d113a",
   "metadata": {},
   "outputs": [],
   "source": [
    "def proxelb(x, k, l):\n",
    "    return np.clip(proxel_1(x, k, l), 0, 1)\n"
   ]
  },
  {
   "cell_type": "code",
   "execution_count": 547,
   "id": "f5e196ba",
   "metadata": {},
   "outputs": [
    {
     "data": {
      "text/plain": [
       "1.0"
      ]
     },
     "execution_count": 547,
     "metadata": {},
     "output_type": "execute_result"
    }
   ],
   "source": [
    "proxelb(2,0.01,0.02)"
   ]
  },
  {
   "cell_type": "markdown",
   "id": "5eeb36fd",
   "metadata": {},
   "source": [
    "# prox_elbmf_box"
   ]
  },
  {
   "cell_type": "code",
   "execution_count": 548,
   "id": "06c9b506",
   "metadata": {},
   "outputs": [],
   "source": [
    "def prox_elbmf_box(X, k, l):\n",
    "    for i in range(X.shape[0]):\n",
    "        for j in range(X.shape[1]):\n",
    "            X[i][j] = proxelb(X[i][j], k, l)\n"
   ]
  },
  {
   "cell_type": "code",
   "execution_count": 549,
   "id": "81f4207a",
   "metadata": {},
   "outputs": [],
   "source": [
    "prox_elbmf_box(X,0.0,0.02)"
   ]
  },
  {
   "cell_type": "code",
   "execution_count": 550,
   "id": "bc3bd61e",
   "metadata": {},
   "outputs": [
    {
     "name": "stdout",
     "output_type": "stream",
     "text": [
      "[[1.         0.65397924 1.         1.        ]\n",
      " [1.         0.08650519 0.62514418 0.27873895]\n",
      " [1.         1.         1.         0.17301038]]\n"
     ]
    }
   ],
   "source": [
    "print(X)"
   ]
  },
  {
   "cell_type": "code",
   "execution_count": null,
   "id": "1585a010",
   "metadata": {},
   "outputs": [],
   "source": []
  },
  {
   "cell_type": "markdown",
   "id": "fe9d39c2",
   "metadata": {},
   "source": [
    "# structs"
   ]
  },
  {
   "cell_type": "code",
   "execution_count": 551,
   "id": "2eaa2869",
   "metadata": {},
   "outputs": [],
   "source": [
    "class PALM:\n",
    "    pass\n",
    "\n",
    "class iPALM:\n",
    "    def __init__(self, beta):\n",
    "        self.beta = beta\n"
   ]
  },
  {
   "cell_type": "code",
   "execution_count": 552,
   "id": "c2f49c0c",
   "metadata": {},
   "outputs": [],
   "source": [
    "p = PALM()\n",
    "ip = iPALM(0.2)"
   ]
  },
  {
   "cell_type": "code",
   "execution_count": 553,
   "id": "28765bd1",
   "metadata": {},
   "outputs": [],
   "source": [
    "class ElasticBMF:\n",
    "    def __init__(self,l1reg,l2reg):\n",
    "        self.l1reg=l1reg\n",
    "        self.l2reg=l2reg"
   ]
  },
  {
   "cell_type": "code",
   "execution_count": 554,
   "id": "a79efccd",
   "metadata": {},
   "outputs": [],
   "source": [
    "fn = ElasticBMF(0.001,0.002)"
   ]
  },
  {
   "cell_type": "markdown",
   "id": "5a69675e",
   "metadata": {},
   "source": [
    "# rounding"
   ]
  },
  {
   "cell_type": "code",
   "execution_count": 555,
   "id": "52fb3b01",
   "metadata": {},
   "outputs": [],
   "source": [
    "def rounding(fn, _, U: np.ndarray, V: np.ndarray) -> None:\n",
    "    prox_elbmf(U, 0.5, 1e20)\n",
    "    np.clip(U,0,1)\n",
    "    np.round(U)\n",
    "    \n",
    "    prox_elbmf(V, 0.5, 1e20)\n",
    "    np.clip(V,0,1)\n",
    "    np.round(V)\n",
    "    \n"
   ]
  },
  {
   "cell_type": "code",
   "execution_count": 556,
   "id": "c04c5d2d",
   "metadata": {},
   "outputs": [
    {
     "data": {
      "text/plain": [
       "array([[1.9  , 2.5  , 1.05 ],\n",
       "       [2.2  , 4.2  , 0.9  ],\n",
       "       [4.1  , 0.36 , 3.1  ],\n",
       "       [5.   , 3.1  , 2.36 ],\n",
       "       [1.2  , 7.002, 6.3  ]])"
      ]
     },
     "execution_count": 556,
     "metadata": {},
     "output_type": "execute_result"
    }
   ],
   "source": [
    "U"
   ]
  },
  {
   "cell_type": "code",
   "execution_count": 557,
   "id": "14dd0c11",
   "metadata": {},
   "outputs": [
    {
     "data": {
      "text/plain": [
       "array([[1.2  , 6.21 , 1.09 , 8.01 , 2.36 ],\n",
       "       [2.1  , 7.   , 6.36 , 0.63 , 1.01 ],\n",
       "       [1.002, 9.   , 6.2  , 5.8  , 0.05 ]])"
      ]
     },
     "execution_count": 557,
     "metadata": {},
     "output_type": "execute_result"
    }
   ],
   "source": [
    "V"
   ]
  },
  {
   "cell_type": "code",
   "execution_count": 558,
   "id": "303fa049",
   "metadata": {},
   "outputs": [],
   "source": [
    "# rounding(fn,A,U,V)"
   ]
  },
  {
   "cell_type": "code",
   "execution_count": 559,
   "id": "bcf0ca7e",
   "metadata": {},
   "outputs": [
    {
     "data": {
      "text/plain": [
       "array([[1.9  , 2.5  , 1.05 ],\n",
       "       [2.2  , 4.2  , 0.9  ],\n",
       "       [4.1  , 0.36 , 3.1  ],\n",
       "       [5.   , 3.1  , 2.36 ],\n",
       "       [1.2  , 7.002, 6.3  ]])"
      ]
     },
     "execution_count": 559,
     "metadata": {},
     "output_type": "execute_result"
    }
   ],
   "source": [
    "U"
   ]
  },
  {
   "cell_type": "code",
   "execution_count": 560,
   "id": "233cfa9c",
   "metadata": {},
   "outputs": [
    {
     "data": {
      "text/plain": [
       "array([[1.2  , 6.21 , 1.09 , 8.01 , 2.36 ],\n",
       "       [2.1  , 7.   , 6.36 , 0.63 , 1.01 ],\n",
       "       [1.002, 9.   , 6.2  , 5.8  , 0.05 ]])"
      ]
     },
     "execution_count": 560,
     "metadata": {},
     "output_type": "execute_result"
    }
   ],
   "source": [
    "V"
   ]
  },
  {
   "cell_type": "markdown",
   "id": "55898f46",
   "metadata": {},
   "source": [
    "# apply rate"
   ]
  },
  {
   "cell_type": "code",
   "execution_count": 561,
   "id": "0c2db558",
   "metadata": {},
   "outputs": [],
   "source": [
    "def apply_rate(fn, fn0, nu):\n",
    "    fn.l2reg = fn0.l2reg * nu\n"
   ]
  },
  {
   "cell_type": "code",
   "execution_count": 562,
   "id": "0f238498",
   "metadata": {},
   "outputs": [],
   "source": [
    "apply_rate(fn,fn,2)"
   ]
  },
  {
   "cell_type": "code",
   "execution_count": 563,
   "id": "769b0e3d",
   "metadata": {},
   "outputs": [
    {
     "data": {
      "text/plain": [
       "0.001"
      ]
     },
     "execution_count": 563,
     "metadata": {},
     "output_type": "execute_result"
    }
   ],
   "source": [
    "fn.l1reg"
   ]
  },
  {
   "cell_type": "code",
   "execution_count": 564,
   "id": "c181dd5a",
   "metadata": {},
   "outputs": [
    {
     "data": {
      "text/plain": [
       "0.004"
      ]
     },
     "execution_count": 564,
     "metadata": {},
     "output_type": "execute_result"
    }
   ],
   "source": [
    "fn.l2reg"
   ]
  },
  {
   "cell_type": "markdown",
   "id": "d0da9a3c",
   "metadata": {},
   "source": [
    "# PALM reducemf_impl with PALM"
   ]
  },
  {
   "cell_type": "code",
   "execution_count": 719,
   "id": "619356de",
   "metadata": {},
   "outputs": [],
   "source": [
    "def reducemf_impl(prox,p:PALM,A, U, V):\n",
    "    VVt = V @ V.T\n",
    "    AVt = A @ V.T\n",
    "    L = max(np.linalg.norm(VVt), 1e-4)\n",
    "    step_size = 1 / (1.1 * L)\n",
    "    grad = U @ VVt - AVt\n",
    "    a,b = U.shape\n",
    "    for i in range(a):\n",
    "        for j in range(b):\n",
    "            U[i][j] -= grad[i][j] * step_size\n",
    "    prox(U, step_size)\n"
   ]
  },
  {
   "cell_type": "code",
   "execution_count": 720,
   "id": "ca0ba500",
   "metadata": {},
   "outputs": [],
   "source": [
    "# reducemf_impl(p,A,U,V)"
   ]
  },
  {
   "cell_type": "code",
   "execution_count": 721,
   "id": "4b00fa68",
   "metadata": {},
   "outputs": [
    {
     "data": {
      "text/plain": [
       "array([[1.9  , 2.5  , 1.05 ],\n",
       "       [2.2  , 4.2  , 0.9  ],\n",
       "       [4.1  , 0.36 , 3.1  ],\n",
       "       [5.   , 3.1  , 2.36 ],\n",
       "       [1.2  , 7.002, 6.3  ]])"
      ]
     },
     "execution_count": 721,
     "metadata": {},
     "output_type": "execute_result"
    }
   ],
   "source": [
    "U"
   ]
  },
  {
   "cell_type": "code",
   "execution_count": null,
   "id": "71b0164b",
   "metadata": {},
   "outputs": [],
   "source": []
  },
  {
   "cell_type": "markdown",
   "id": "45fc7861",
   "metadata": {},
   "source": [
    "# PALM reducemf_impl with iPALM"
   ]
  },
  {
   "cell_type": "code",
   "execution_count": 692,
   "id": "273253b3",
   "metadata": {},
   "outputs": [],
   "source": [
    "import copy"
   ]
  },
  {
   "cell_type": "code",
   "execution_count": 722,
   "id": "3d97f9d2",
   "metadata": {},
   "outputs": [],
   "source": [
    "def reducemf_impl_ip(prox,opt:iPALM,A, U, V,U_):\n",
    "    VVt = V @ V.T\n",
    "    AVt = A @ V.T\n",
    "    \n",
    "    \n",
    "    L = max(np.linalg.norm(VVt), 1e-4)\n",
    "   \n",
    "    \n",
    "    a,b = U.shape\n",
    "    \n",
    "    #@. U = U + opt.beta * (U - U_)\n",
    "    for i in range(a):\n",
    "        for j in range(b):\n",
    "            U[i][j]= U[i][j]+opt.beta*(U[i][j]-U_[i][j])\n",
    "            \n",
    "    #@. U_ = U\n",
    "    for i in range(a):\n",
    "        for j in range(b):\n",
    "            U_[i][j] = U[i][j]\n",
    "            \n",
    "    step_size = 2*(1-opt.beta) / (1+2*opt.beta)/L\n",
    "    \n",
    "    grad = U @ VVt - AVt\n",
    "    for i in range(a):\n",
    "        for j in range(b):\n",
    "            U[i][j] = U[i][j]-grad[i][j] * step_size\n",
    "    prox(U, step_size)\n",
    "\n",
    "\n"
   ]
  },
  {
   "cell_type": "code",
   "execution_count": 694,
   "id": "ed69370f",
   "metadata": {},
   "outputs": [],
   "source": [
    "# ip=iPALM(0.4)"
   ]
  },
  {
   "cell_type": "code",
   "execution_count": 695,
   "id": "3fa6d936",
   "metadata": {},
   "outputs": [],
   "source": [
    "# U_=copy.deepcopy(U)"
   ]
  },
  {
   "cell_type": "code",
   "execution_count": 696,
   "id": "cffcbfa1",
   "metadata": {
    "scrolled": true
   },
   "outputs": [],
   "source": [
    "# U"
   ]
  },
  {
   "cell_type": "code",
   "execution_count": 697,
   "id": "42c326d8",
   "metadata": {},
   "outputs": [],
   "source": [
    "# U_"
   ]
  },
  {
   "cell_type": "code",
   "execution_count": 698,
   "id": "81651532",
   "metadata": {},
   "outputs": [],
   "source": [
    "# reducemf_impl_ip(ip,A, U, V,U_)"
   ]
  },
  {
   "cell_type": "code",
   "execution_count": 699,
   "id": "2403212b",
   "metadata": {},
   "outputs": [],
   "source": [
    "# U"
   ]
  },
  {
   "cell_type": "code",
   "execution_count": 700,
   "id": "fff2edc3",
   "metadata": {},
   "outputs": [],
   "source": [
    "# U_"
   ]
  },
  {
   "cell_type": "markdown",
   "id": "4a7969a6",
   "metadata": {},
   "source": [
    "# reduce emf!"
   ]
  },
  {
   "cell_type": "code",
   "execution_count": 745,
   "id": "a08f115d",
   "metadata": {},
   "outputs": [],
   "source": [
    "def reducemf(fn, opt:PALM, A, U, V):\n",
    "    def prox(x, alpha):\n",
    "        return prox_elbmf(x, fn.l1reg * alpha, fn.l2reg * alpha)\n",
    "    reducemf_impl(prox, opt, A, U, V)"
   ]
  },
  {
   "cell_type": "markdown",
   "id": "d8fccade",
   "metadata": {},
   "source": [
    "# reduce emf! iPALM"
   ]
  },
  {
   "cell_type": "code",
   "execution_count": 746,
   "id": "fce1237c",
   "metadata": {},
   "outputs": [],
   "source": [
    "def reducemf_i(fn, opt:iPALM, A, U, V,U_):\n",
    "    def prox(x, alpha):\n",
    "        return prox_elbmf(x, fn.l1reg * alpha, fn.l2reg * alpha)\n",
    "    reducemf_impl_ip(prox, opt, A, U, V,U_)\n",
    "  "
   ]
  },
  {
   "cell_type": "code",
   "execution_count": 744,
   "id": "5012cf4f",
   "metadata": {},
   "outputs": [
    {
     "name": "stdout",
     "output_type": "stream",
     "text": [
      "A=\n",
      " [[1 0 0 1 0]\n",
      " [1 0 1 0 1]\n",
      " [0 1 1 0 1]\n",
      " [0 1 0 0 1]\n",
      " [1 1 1 0 1]]\n",
      "U=\n",
      " [[1.9   2.5   1.05 ]\n",
      " [2.2   4.2   0.9  ]\n",
      " [4.1   0.36  3.1  ]\n",
      " [5.    3.1   2.36 ]\n",
      " [1.2   7.002 6.3  ]]\n",
      "V=\n",
      " [[1.2   6.21  1.09  8.01  2.36 ]\n",
      " [2.1   7.    6.36  0.63  1.01 ]\n",
      " [1.002 9.    6.2   5.8   0.05 ]]\n",
      "UV=\n",
      " [[  8.5821   38.749    24.481    22.884     7.0615 ]\n",
      " [ 12.3618   51.162    34.69     25.488     9.479  ]\n",
      " [  8.7822   55.881    25.9786   51.0478   10.1946 ]\n",
      " [ 14.87472  73.99     39.798    55.691    15.049  ]\n",
      " [ 22.4568  113.166    84.90072  50.56326  10.21902]]\n",
      "A=\n",
      " [[1 0 0 1 0]\n",
      " [1 0 1 0 1]\n",
      " [0 1 1 0 1]\n",
      " [0 1 0 0 1]\n",
      " [1 1 1 0 1]]\n",
      "U=\n",
      " [[0.19816411 0.81044163 0.        ]\n",
      " [0.04119106 1.92732297 0.        ]\n",
      " [1.15798984 0.         0.        ]\n",
      " [1.38649508 0.03699553 0.        ]\n",
      " [0.         1.90108588 0.        ]]\n",
      "V=\n",
      " [[1.2   6.21  1.09  8.01  2.36 ]\n",
      " [2.1   7.    6.36  0.63  1.01 ]\n",
      " [1.002 9.    6.2   5.8   0.05 ]]\n",
      "UV=\n",
      " [[ 1.93972435  6.9036905   5.37040764  2.09787271  1.28621333]\n",
      " [ 4.09680751 13.74705727 12.30267233  1.54415388  2.0438071 ]\n",
      " [ 1.38958781  7.19111693  1.26220893  9.27549865  2.73285603]\n",
      " [ 1.74148471  8.86910317  1.74657123 11.12913276  3.30949387]\n",
      " [ 3.99228034 13.30760115 12.09090619  1.1976841   1.92009674]]\n"
     ]
    }
   ],
   "source": [
    "#before\n",
    "print(\"A=\\n\",A)\n",
    "print(\"U=\\n\",U)\n",
    "print(\"V=\\n\",V)\n",
    "print(\"UV=\\n\",np.dot(U,V))\n",
    "\n",
    "ip = iPALM(0.2)\n",
    "U_=np.copy(U_)\n",
    "reducemf_i(fn, ip, A, U, V,U_)\n",
    "\n",
    "#after\n",
    "print(\"A=\\n\",A)\n",
    "print(\"U=\\n\",U)\n",
    "print(\"V=\\n\",V)\n",
    "print(\"UV=\\n\",np.dot(U,V))"
   ]
  },
  {
   "cell_type": "code",
   "execution_count": null,
   "id": "87bd44c9",
   "metadata": {},
   "outputs": [],
   "source": []
  },
  {
   "cell_type": "code",
   "execution_count": null,
   "id": "42373b9e",
   "metadata": {},
   "outputs": [],
   "source": []
  },
  {
   "cell_type": "markdown",
   "id": "ab572ad1",
   "metadata": {},
   "source": [
    "# factorize_palm"
   ]
  },
  {
   "cell_type": "code",
   "execution_count": 723,
   "id": "94757113",
   "metadata": {},
   "outputs": [],
   "source": [
    "import copy\n",
    "def factorize_palm(fn, A, U, V, regularization_rate, maxiter, tol, callback=None):\n",
    "    ell = float(\"inf\")\n",
    "    fn0 = copy.deepcopy(fn)\n",
    "    for t in range(1,maxiter):\n",
    "        fn.l2reg = fn0.l2reg * regularization_rate\n",
    "        reducemf(fn, PALM,A, U, V)\n",
    "        reducemf(fn, PALM,A.T, V.T, U.T)\n",
    "#         ell, ell0 = np.linalg.norm(X - U @ V)**2, ell\n",
    "#         ell0 = ell\n",
    "#         ell = np.linalg.norm(X - U @ V)**2\n",
    "#         if callback:\n",
    "#             callback((U, V), ell)\n",
    "#         if abs(ell - ell0) < tol:\n",
    "#             break\n",
    "    fn = fn0\n",
    "    return U, V\n",
    "\n"
   ]
  },
  {
   "cell_type": "code",
   "execution_count": 713,
   "id": "8159fe89",
   "metadata": {},
   "outputs": [],
   "source": [
    "def factorize_ipalm(\n",
    "    fn,\n",
    "    A,\n",
    "    U,\n",
    "    V,\n",
    "    regularization_rate,\n",
    "    maxiter,\n",
    "    tol,\n",
    "    beta,\n",
    "    callback=None\n",
    "):\n",
    "    if beta == 0:\n",
    "        return factorize_palm(fn, A, U, V, regularization_rate, maxiter, tol, callback=callback)\n",
    "\n",
    "    ell = float(\"inf\")\n",
    "    fn0 = copy.deepcopy(fn)\n",
    "\n",
    "    ip = iPALM(beta)\n",
    "    U_ = np.copy(U)\n",
    "    Vt_ = np.copy(V.T)\n",
    "\n",
    "    for t in range(1,maxiter):\n",
    "        fn.l2reg = fn0.l2reg * regularization_rate\n",
    "\n",
    "        reducemf_i(fn, ip, A, U, V, U_)\n",
    "        reducemf_i(fn, ip, A.T, V.T, U.T, Vt_)\n",
    "\n",
    "#         ell0 = ell\n",
    "#         ell = np.sum((A - np.dot(U, V)) ** 2)\n",
    "\n",
    "#         if callback is not None:\n",
    "#             callback((U, V), ell)\n",
    "#         if abs(ell - ell0) < tol:\n",
    "#             break\n",
    "    fn = fn0\n",
    "    return U, V\n"
   ]
  },
  {
   "cell_type": "markdown",
   "id": "f2121057",
   "metadata": {},
   "source": [
    "# Calling PALM"
   ]
  },
  {
   "cell_type": "code",
   "execution_count": 728,
   "id": "ccaa64d2",
   "metadata": {},
   "outputs": [
    {
     "name": "stdout",
     "output_type": "stream",
     "text": [
      "5 5\n"
     ]
    }
   ],
   "source": [
    "\n",
    "n,m=A.shape\n",
    "print(n,m)\n",
    "k=4\n",
    "# U = np.random.randint(2,size=(n, k)).astype(\"float\")\n",
    "# V = np.random.randint(2,size=(k, m)).astype(\"float\")\n",
    "U,V=factorize_palm(fn,A,U,V,0.01,1000,0.01)\n",
    "# rounding(fn,A,U,V)\n"
   ]
  },
  {
   "cell_type": "code",
   "execution_count": 729,
   "id": "83750c59",
   "metadata": {},
   "outputs": [
    {
     "name": "stdout",
     "output_type": "stream",
     "text": [
      "(5, 3) (3, 5)\n",
      "A=\n",
      " [[1 0 0 1 0]\n",
      " [1 0 1 0 1]\n",
      " [0 1 1 0 1]\n",
      " [0 1 0 0 1]\n",
      " [1 1 1 0 1]]\n",
      "U=\n",
      " [[0.00000000e+00 1.57305208e+00 8.59050809e-02]\n",
      " [3.41482880e-01 2.82389151e+00 0.00000000e+00]\n",
      " [9.86949571e-01 2.20518648e-01 0.00000000e+00]\n",
      " [7.74737809e-01 0.00000000e+00 3.17382812e-06]\n",
      " [7.71931012e-01 2.32399540e+00 4.49620816e-03]]\n",
      "V=\n",
      " [[0.         1.10055886 0.65365381 0.         1.08167464]\n",
      " [0.40238263 0.         0.20306013 0.02030649 0.13511108]\n",
      " [2.21765711 4.56852448 1.32563828 8.58271643 0.        ]]\n",
      "UV=\n",
      " [[8.23476850e-01 3.92459465e-01 4.33303220e-01 7.69242120e-01\n",
      "  2.12536766e-01]\n",
      " [1.13628490e+00 3.75822009e-01 7.96631357e-01 5.73433330e-02\n",
      "  7.50912402e-01]\n",
      " [8.87328739e-02 1.08619610e+00 6.89901896e-01 4.47796037e-03\n",
      "  1.09735283e+00]\n",
      " [7.03846249e-06 8.52659060e-01 5.06414531e-01 2.72400668e-05\n",
      "  8.38014237e-01]\n",
      " [9.45106433e-01 8.70096552e-01 9.82446798e-01 8.57818759e-02\n",
      "  1.14897573e+00]]\n"
     ]
    }
   ],
   "source": [
    "print(U.shape,V.shape)\n",
    "print(\"A=\\n\",A)\n",
    "print(\"U=\\n\",U)\n",
    "print(\"V=\\n\",V)\n",
    "print(\"UV=\\n\",np.dot(U,V))"
   ]
  },
  {
   "cell_type": "markdown",
   "id": "c88fdf14",
   "metadata": {},
   "source": [
    "# calling iPALM"
   ]
  },
  {
   "cell_type": "code",
   "execution_count": 526,
   "id": "a1da8da7",
   "metadata": {},
   "outputs": [],
   "source": [
    "# A = np.random.randint(2,size=(50, 100)).astype(\"float\")\n",
    "# print(A)"
   ]
  },
  {
   "cell_type": "code",
   "execution_count": 714,
   "id": "85622396",
   "metadata": {},
   "outputs": [
    {
     "name": "stdout",
     "output_type": "stream",
     "text": [
      "5 5\n"
     ]
    },
    {
     "data": {
      "text/plain": [
       "(5, 5)"
      ]
     },
     "execution_count": 714,
     "metadata": {},
     "output_type": "execute_result"
    }
   ],
   "source": [
    "# def factorize(A,k,l1reg,l2reg,regularization_rate,tol):\n",
    "\n",
    "\n",
    "\n",
    "n,m=A.shape\n",
    "print(n,m)\n",
    "k=4\n",
    "# U = np.random.randint(2,size=(n, k)).astype(\"float\")\n",
    "# V = np.random.randint(2,size=(k, m)).astype(\"float\")\n",
    "U,V=factorize_ipalm(fn,A,U,V,0.01,1000,0.01,0.1)\n",
    "# rounding(fn,A,U,V)\n",
    "A.shape"
   ]
  },
  {
   "cell_type": "code",
   "execution_count": 715,
   "id": "9a5a5f66",
   "metadata": {
    "scrolled": true
   },
   "outputs": [
    {
     "name": "stdout",
     "output_type": "stream",
     "text": [
      "(5, 3) (3, 5)\n",
      "A=\n",
      " [[1 0 0 1 0]\n",
      " [1 0 1 0 1]\n",
      " [0 1 1 0 1]\n",
      " [0 1 0 0 1]\n",
      " [1 1 1 0 1]]\n",
      "U=\n",
      " [[0.00000000e+00 1.56698820e+00 9.13712761e-02]\n",
      " [2.91318638e-01 2.58161664e+00 0.00000000e+00]\n",
      " [7.61375358e-01 2.01100513e-01 8.70054877e-04]\n",
      " [5.92323424e-01 0.00000000e+00 0.00000000e+00]\n",
      " [6.18731221e-01 2.15073244e+00 4.38602636e-06]]\n",
      "V=\n",
      " [[0.         1.40752811 0.88403464 0.         1.41404133]\n",
      " [0.44333563 0.         0.19526524 0.0508673  0.12841477]\n",
      " [1.30175885 4.17464621 1.83509055 6.03634406 0.        ]]\n",
      "UV=\n",
      " [[0.81364507 0.38144275 0.4736529  0.63125692 0.20122443]\n",
      " [1.14452265 0.41003917 0.76163577 0.13131987 0.74345431]\n",
      " [0.09028762 1.07528939 0.71394676 0.01548139 1.1024405 ]\n",
      " [0.         0.83371187 0.52363443 0.         0.8375698 ]\n",
      " [0.95350204 0.87089989 0.96695118 0.10942843 1.15109733]]\n"
     ]
    }
   ],
   "source": [
    "print(U.shape,V.shape)\n",
    "print(\"A=\\n\",A)\n",
    "print(\"U=\\n\",U)\n",
    "print(\"V=\\n\",V)\n",
    "print(\"UV=\\n\",np.dot(U,V))"
   ]
  },
  {
   "cell_type": "code",
   "execution_count": null,
   "id": "7df38976",
   "metadata": {},
   "outputs": [],
   "source": []
  },
  {
   "cell_type": "code",
   "execution_count": 529,
   "id": "034b6fe8",
   "metadata": {},
   "outputs": [
    {
     "data": {
      "text/plain": [
       "7.452991293309875"
      ]
     },
     "execution_count": 529,
     "metadata": {},
     "output_type": "execute_result"
    }
   ],
   "source": [
    "np.linalg.norm(A - U @ V)**2"
   ]
  },
  {
   "cell_type": "code",
   "execution_count": 499,
   "id": "71f79052",
   "metadata": {},
   "outputs": [],
   "source": [
    "rounding(fn,A,U,V)"
   ]
  },
  {
   "cell_type": "code",
   "execution_count": 500,
   "id": "6a0a7c29",
   "metadata": {},
   "outputs": [
    {
     "name": "stdout",
     "output_type": "stream",
     "text": [
      "A=\n",
      " [[1 0 0 1 0]\n",
      " [1 0 1 0 1]\n",
      " [0 1 1 0 1]\n",
      " [0 1 0 0 1]\n",
      " [1 1 1 0 1]]\n",
      "U=\n",
      " [[0. 0. 0.]\n",
      " [0. 0. 0.]\n",
      " [0. 0. 0.]\n",
      " [0. 0. 0.]\n",
      " [0. 0. 0.]]\n",
      "V=\n",
      " [[0. 1. 1. 1. 1.]\n",
      " [1. 1. 1. 0. 1.]\n",
      " [1. 1. 1. 1. 1.]]\n",
      "UV=\n",
      " [[0. 0. 0. 0. 0.]\n",
      " [0. 0. 0. 0. 0.]\n",
      " [0. 0. 0. 0. 0.]\n",
      " [0. 0. 0. 0. 0.]\n",
      " [0. 0. 0. 0. 0.]]\n"
     ]
    }
   ],
   "source": [
    "print(\"A=\\n\",A)\n",
    "print(\"U=\\n\",U)\n",
    "print(\"V=\\n\",V)\n",
    "print(\"UV=\\n\",np.dot(U,V))"
   ]
  },
  {
   "cell_type": "code",
   "execution_count": 530,
   "id": "619135ec",
   "metadata": {},
   "outputs": [
    {
     "data": {
      "text/plain": [
       "array([[0.01309341, 0.49616905, 0.03156523, 0.11652415, 0.48537548],\n",
       "       [0.6677754 , 0.33736096, 0.58725276, 0.07922844, 0.33002207],\n",
       "       [0.52960952, 0.41112089, 0.47167736, 0.09655079, 0.40217745],\n",
       "       [0.04981226, 1.88761309, 0.12008598, 0.44330155, 1.8465503 ],\n",
       "       [1.05435243, 0.17647553, 0.91286028, 0.04144487, 0.17263651]])"
      ]
     },
     "execution_count": 530,
     "metadata": {},
     "output_type": "execute_result"
    }
   ],
   "source": [
    "np.dot(U,V)"
   ]
  },
  {
   "cell_type": "code",
   "execution_count": null,
   "id": "2f7ca1f1",
   "metadata": {},
   "outputs": [],
   "source": []
  },
  {
   "cell_type": "code",
   "execution_count": null,
   "id": "35ab3a64",
   "metadata": {},
   "outputs": [],
   "source": []
  },
  {
   "cell_type": "code",
   "execution_count": null,
   "id": "48f1eea4",
   "metadata": {},
   "outputs": [],
   "source": []
  },
  {
   "cell_type": "code",
   "execution_count": null,
   "id": "80bcffc3",
   "metadata": {},
   "outputs": [],
   "source": []
  },
  {
   "cell_type": "code",
   "execution_count": null,
   "id": "cce3b2d3",
   "metadata": {},
   "outputs": [],
   "source": []
  },
  {
   "cell_type": "code",
   "execution_count": null,
   "id": "66fdd278",
   "metadata": {},
   "outputs": [],
   "source": []
  },
  {
   "cell_type": "code",
   "execution_count": null,
   "id": "9fd18a16",
   "metadata": {},
   "outputs": [],
   "source": []
  },
  {
   "cell_type": "code",
   "execution_count": null,
   "id": "c82923e2",
   "metadata": {},
   "outputs": [],
   "source": []
  },
  {
   "cell_type": "code",
   "execution_count": null,
   "id": "40564ebb",
   "metadata": {},
   "outputs": [],
   "source": []
  },
  {
   "cell_type": "code",
   "execution_count": 47,
   "id": "e1d3cda7",
   "metadata": {},
   "outputs": [],
   "source": [
    "import numpy as np\n",
    "\n",
    "def matrix_factorization_PALM(fn,R, k, lambda_1=0.01,lambda_2=0.02, max_iter=1000, tol=1e-4):\n",
    "    \"\"\"\n",
    "    Matrix factorization using Proximal Alternating Linear Minimization (PALM)\n",
    "    \n",
    "    Parameters:\n",
    "        R (np.ndarray): Input matrix to factorize\n",
    "        k (int): Number of latent factors\n",
    "        max_iter (int): Maximum number of iterations\n",
    "        tol (float): Tolerance for convergence\n",
    "        lambda_ (float): Regularization term\n",
    "        \n",
    "    Returns:\n",
    "        (np.ndarray, np.ndarray): The two factor matrices\n",
    "    \"\"\"\n",
    "    \n",
    "    m, n = R.shape\n",
    "    X = np.random.rand(m, k)\n",
    "    Y = np.random.rand(k, n)\n",
    "    \n",
    "    # Set the step size\n",
    "    eta = 1 / (np.linalg.norm(X, 2) * np.linalg.norm(Y, 2))\n",
    "    fn0=copy.deepcopy(fn)\n",
    "    for i in range(max_iter):\n",
    "        fn.l2reg = fn0.l2reg * regularization_rate(t - 1)\n",
    "#         print(i)\n",
    "    #         X_prev = X.copy()\n",
    "    #         Y_prev = Y.copy()\n",
    "\n",
    "        # Minimize with respect to X\n",
    "\n",
    "#         for j in range(m):\n",
    "        YYt = Y @ Y.T\n",
    "        RYt = R @ Y.T\n",
    "        L = max(np.linalg.norm(YYt), 1e-4)\n",
    "        eta = 1/(1.1*L)\n",
    "        reg=regularizer_elbmf(X,lambda_1,lambda_2)\n",
    "        grad_X = X @ YYt - RYt +reg * np.sign(X)\n",
    "#         print(grad_X)\n",
    "#     * np.sign(R)\n",
    "#         +reg * np.sign(X)\n",
    "        X = X-grad_X * eta\n",
    "\n",
    "\n",
    "        # Minimize with respect to Y\n",
    "#         for j in range(n):\n",
    "        XtX = X.T @ X\n",
    "        RtX = R.T @ X\n",
    "        L = max(np.linalg.norm(XtX), 1e-4)\n",
    "        eta = 1/(1.1*L)\n",
    "        reg=regularizer_elbmf(Y.T,lambda_1,lambda_2)\n",
    "        grad_Yt = Y.T @ XtX - RtX +reg * np.sign(Y.T)\n",
    "#     * np.sign(R)\n",
    "#         +reg * np.sign(Y.T)\n",
    "        Yt = Y.T-grad_Yt *eta\n",
    "\n",
    "\n",
    "        \n",
    "#         ell = np.linalg.norm(R - X @ Y)**2\n",
    "#         ell0 = ell\n",
    "        # Check for convergence\n",
    "    #         if (abs(ell - ell0) < tol):\n",
    "    #             break   \n",
    "    return X, Y\n"
   ]
  },
  {
   "cell_type": "code",
   "execution_count": 48,
   "id": "affce0ba",
   "metadata": {},
   "outputs": [
    {
     "name": "stdout",
     "output_type": "stream",
     "text": [
      "[[4 1 3 ... 2 4 1]\n",
      " [2 5 0 ... 4 1 2]\n",
      " [3 1 1 ... 2 0 2]\n",
      " ...\n",
      " [2 5 5 ... 2 4 5]\n",
      " [0 3 1 ... 5 5 4]\n",
      " [0 3 1 ... 5 2 0]]\n",
      "\n"
     ]
    },
    {
     "ename": "TypeError",
     "evalue": "matrix_factorization_PALM() missing 1 required positional argument: 'k'",
     "output_type": "error",
     "traceback": [
      "\u001b[0;31m---------------------------------------------------------------------------\u001b[0m",
      "\u001b[0;31mTypeError\u001b[0m                                 Traceback (most recent call last)",
      "Input \u001b[0;32mIn [48]\u001b[0m, in \u001b[0;36m<cell line: 17>\u001b[0;34m()\u001b[0m\n\u001b[1;32m     11\u001b[0m \u001b[38;5;28mprint\u001b[39m(\u001b[38;5;124m\"\u001b[39m\u001b[38;5;124m\"\u001b[39m)\n\u001b[1;32m     14\u001b[0m K \u001b[38;5;241m=\u001b[39m \u001b[38;5;241m10\u001b[39m\n\u001b[0;32m---> 17\u001b[0m nP, nQ \u001b[38;5;241m=\u001b[39m \u001b[43mmatrix_factorization_PALM\u001b[49m\u001b[43m(\u001b[49m\u001b[43mR\u001b[49m\u001b[43m,\u001b[49m\u001b[43mK\u001b[49m\u001b[43m)\u001b[49m\n\u001b[1;32m     19\u001b[0m nR \u001b[38;5;241m=\u001b[39m np\u001b[38;5;241m.\u001b[39mdot(nP, nQ)\n\u001b[1;32m     20\u001b[0m \u001b[38;5;28mprint\u001b[39m(nR)\n",
      "\u001b[0;31mTypeError\u001b[0m: matrix_factorization_PALM() missing 1 required positional argument: 'k'"
     ]
    }
   ],
   "source": [
    "R = np.random.randint(6, size=(100,400), dtype=np.int8)\n",
    "# R=np.array([\n",
    "#    [1,0,0,4,5,0],\n",
    "#    [0,0,3,3,0,4],\n",
    "#    [0,4,0,2,0,3],\n",
    "#    [2,1,5,0,1,3],\n",
    "#   ])\n",
    "\n",
    "\n",
    "print(R)\n",
    "print(\"\")\n",
    "\n",
    "\n",
    "K = 10\n",
    "\n",
    "\n",
    "nP, nQ = matrix_factorization_PALM(R,K)\n",
    "\n",
    "nR = np.dot(nP, nQ)\n",
    "print(nR)\n",
    "print(\"\")\n",
    "print(np.linalg.norm(R-nR)**2)"
   ]
  },
  {
   "cell_type": "markdown",
   "id": "1471d656",
   "metadata": {},
   "source": [
    "# Dataset"
   ]
  },
  {
   "cell_type": "code",
   "execution_count": null,
   "id": "61525daf",
   "metadata": {
    "scrolled": false
   },
   "outputs": [],
   "source": [
    "# Reads the movie lens data and creates a matrix out of it \n",
    "\n",
    "import numpy as np\n",
    "import pandas as pd\n",
    "ratings = pd.read_csv(\"/home/cris-musa/Documents/Dataset/ratings.csv\")\n",
    "movies = pd.read_csv(\"/home/cris-musa/Documents/Dataset/movies.csv\")\n",
    "# print(ratings)\n",
    "# print(movies)\n",
    "\n",
    "R = np.zeros(shape=(610,193609),dtype=float)\n",
    "for i in range(100835):\n",
    "    user = ratings[\"userId\"][i]-1\n",
    "    movie = ratings[\"movieId\"][i]-1\n",
    "    R[user][movie]=ratings[\"rating\"][i]\n",
    "print(R)\n",
    "print(np.sign(R))"
   ]
  },
  {
   "cell_type": "code",
   "execution_count": null,
   "id": "5acbb4fb",
   "metadata": {},
   "outputs": [],
   "source": [
    "print(R)\n",
    "nP, nQ = matrix_factorization_PALM(R,40)\n",
    "nR = np.dot(nP, nQ)\n",
    "print(nR/5)\n",
    "print(\"\")\n",
    "print(np.linalg.norm(R-nR)**2)"
   ]
  },
  {
   "cell_type": "code",
   "execution_count": null,
   "id": "c122261b",
   "metadata": {
    "scrolled": false
   },
   "outputs": [],
   "source": [
    "# R = np.random.randint(6, size=(100,400), dtype=np.int8)\n",
    "R=np.array([\n",
    "   [1,0,0,4,5,0],\n",
    "   [0,0,3,3,0,4],\n",
    "   [0,4,0,2,0,3],\n",
    "   [2,1,5,0,1,3],\n",
    "  ])\n",
    "\n",
    "\n",
    "print(R)\n",
    "print(\"\")\n",
    "\n",
    "\n",
    "K = 3\n",
    "\n",
    "\n",
    "nP, nQ = matrix_factorization_PALM(R,K)\n",
    "\n",
    "nR = np.dot(nP, nQ)\n",
    "print(nR)\n",
    "print(\"\")\n",
    "print(np.linalg.norm(R-nR)**2)\n"
   ]
  },
  {
   "cell_type": "code",
   "execution_count": null,
   "id": "438309bd",
   "metadata": {},
   "outputs": [],
   "source": []
  },
  {
   "cell_type": "code",
   "execution_count": null,
   "id": "21b09c13",
   "metadata": {},
   "outputs": [],
   "source": []
  },
  {
   "cell_type": "code",
   "execution_count": null,
   "id": "ed78b3a0",
   "metadata": {},
   "outputs": [],
   "source": [
    "A = np.array([\n",
    "    [1,2,3,4],\n",
    "    [0,1,0,5],\n",
    "    [4,0,1,3],\n",
    "])\n",
    "B = np.array([\n",
    "    [1,1,1,1],\n",
    "    [1,1,1,1],\n",
    "    [1,1,1,1],\n",
    "])\n",
    "\n",
    "A*5"
   ]
  },
  {
   "cell_type": "code",
   "execution_count": null,
   "id": "01e7439a",
   "metadata": {},
   "outputs": [],
   "source": [
    "import numpy as np\n",
    "\n",
    "def ALS(A, k, max_iter=100, tol=1e-4):\n",
    "    m, n = A.shape\n",
    "    U = np.random.rand(m, k)\n",
    "    V = np.random.rand(n, k)\n",
    "    for t in range(max_iter):\n",
    "        # Update U\n",
    "        V_T_V = np.dot(V.T, V)\n",
    "        A_V = np.dot(A, V)\n",
    "        for i in range(m):\n",
    "            u_i = np.dot(A_V[i, :], np.linalg.inv(V_T_V))\n",
    "            U[i, :] = u_i / np.linalg.norm(u_i)\n",
    "        \n",
    "        # Update V\n",
    "        U_T_U = np.dot(U.T, U)\n",
    "        A_U = np.dot(A.T, U)\n",
    "        for j in range(n):\n",
    "            v_j = np.dot(A_U[j, :], np.linalg.inv(U_T_U))\n",
    "            V[j, :] = v_j / np.linalg.norm(v_j)\n",
    "        \n",
    "        # Check for convergence\n",
    "        if np.linalg.norm(A - np.dot(U, V.T)) < tol:\n",
    "            break\n",
    "    return U, V\n"
   ]
  },
  {
   "cell_type": "code",
   "execution_count": null,
   "id": "a9728c17",
   "metadata": {},
   "outputs": [],
   "source": [
    "# R = np.random.randint(6, size=(100,400), dtype=np.int8)\n",
    "R=np.array([\n",
    "   [1,0,0,4,5,0],\n",
    "   [0,0,3,3,0,4],\n",
    "   [0,4,0,2,0,3],\n",
    "   [2,0,5,0,1,3],\n",
    "  ])\n",
    "\n",
    "\n",
    "print(R)\n",
    "print(\"\")\n",
    "\n",
    "\n",
    "K = 3\n",
    "\n",
    "\n",
    "nP, nQ = ALS(R,K)\n",
    "\n",
    "nR = np.dot(nP, nQ.T)\n",
    "print(nR)\n",
    "print(\"\")\n",
    "print(np.linalg.norm(R-nR)**2)"
   ]
  },
  {
   "cell_type": "code",
   "execution_count": null,
   "id": "a0fb35d3",
   "metadata": {},
   "outputs": [],
   "source": []
  }
 ],
 "metadata": {
  "kernelspec": {
   "display_name": "Python 3 (ipykernel)",
   "language": "python",
   "name": "python3"
  },
  "language_info": {
   "codemirror_mode": {
    "name": "ipython",
    "version": 3
   },
   "file_extension": ".py",
   "mimetype": "text/x-python",
   "name": "python",
   "nbconvert_exporter": "python",
   "pygments_lexer": "ipython3",
   "version": "3.9.12"
  }
 },
 "nbformat": 4,
 "nbformat_minor": 5
}
