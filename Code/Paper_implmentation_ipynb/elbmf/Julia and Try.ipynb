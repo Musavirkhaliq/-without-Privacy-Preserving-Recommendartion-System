{
 "cells": [
  {
   "cell_type": "code",
   "execution_count": 685,
   "id": "6c455b31",
   "metadata": {},
   "outputs": [],
   "source": [
    "# module Elbmf\n",
    "\n",
    "using Random, LinearAlgebra, CUDA\n",
    "using CUDA.CUSPARSE\n",
    "using CUDA: norm\n",
    "using Random\n",
    "using Distributions"
   ]
  },
  {
   "cell_type": "code",
   "execution_count": 686,
   "id": "863f038a",
   "metadata": {},
   "outputs": [
    {
     "name": "stdout",
     "output_type": "stream",
     "text": [
      "A=[1 0 0 1 0; 1 0 1 0 1; 0 1 1 0 1; 0 1 0 0 1; 1 1 1 0 1]\n",
      "U=[1.9 2.5 1.05; 2.2 4.2 0.9; 4.1 0.36 3.1; 5.0 3.1 2.36; 1.2 7.002 6.3]\n",
      "V=[1.2 6.21 1.09 8.01 2.36; 2.1 7.0 6.36 0.63 1.01; 1.002 9.0 6.2 5.8 0.05]\n",
      "X=[2.0 0.63 1.2 1.2; 2.1 0.1 0.6 0.3; 6.3 1.2 5.6 0.19]\n"
     ]
    }
   ],
   "source": [
    "A = [1 0 0 1 0;1 0 1 0 1; 0 1 1 0 1; 0 1 0 0 1; 1 1 1 0 1]\n",
    "U = [1.9 2.5 1.05; 2.2 4.2 0.9; 4.1 0.36 3.1; 5.0 3.1 2.36;1.2 7.002 6.3;]\n",
    "V = [1.2 6.21 1.09 8.01 2.36; 2.1 7.0 6.36 0.63 1.01; 1.002 9 6.2 5.8 0.05]\n",
    "X=[2 0.63 1.2 1.2;2.1 0.1 0.6 0.3;6.3 1.2 5.6 0.19]\n",
    "println(\"A=\",A)\n",
    "println(\"U=\",U)\n",
    "println(\"V=\",V)\n",
    "println(\"X=\",X)"
   ]
  },
  {
   "cell_type": "markdown",
   "id": "5940d459",
   "metadata": {},
   "source": [
    "# elastic Net"
   ]
  },
  {
   "cell_type": "code",
   "execution_count": 545,
   "id": "3efbcb40",
   "metadata": {},
   "outputs": [
    {
     "data": {
      "text/plain": [
       "integrality_gap_elastic (generic function with 1 method)"
      ]
     },
     "execution_count": 545,
     "metadata": {},
     "output_type": "execute_result"
    }
   ],
   "source": [
    "integrality_gap_elastic(e, kappa, lambda) = \n",
    "min(kappa * abs(e) + lambda * e^2, kappa * abs(e - 1) + lambda * (e - 1)^2)"
   ]
  },
  {
   "cell_type": "code",
   "execution_count": 546,
   "id": "caddcf03",
   "metadata": {},
   "outputs": [
    {
     "data": {
      "text/plain": [
       "0.03"
      ]
     },
     "execution_count": 546,
     "metadata": {},
     "output_type": "execute_result"
    }
   ],
   "source": [
    "integrality_gap_elastic(2,0.01,0.02)"
   ]
  },
  {
   "cell_type": "markdown",
   "id": "24a6119e",
   "metadata": {},
   "source": [
    "# regularizer_elbmf"
   ]
  },
  {
   "cell_type": "code",
   "execution_count": 547,
   "id": "5b3f40e9",
   "metadata": {},
   "outputs": [
    {
     "data": {
      "text/plain": [
       "regularizer_elbmf (generic function with 1 method)"
      ]
     },
     "execution_count": 547,
     "metadata": {},
     "output_type": "execute_result"
    }
   ],
   "source": [
    "regularizer_elbmf(x, l1reg, l2reg)= sum(e -> integrality_gap_elastic(e, l1reg, l2reg), x)"
   ]
  },
  {
   "cell_type": "code",
   "execution_count": 548,
   "id": "b4144fc7",
   "metadata": {},
   "outputs": [
    {
     "data": {
      "text/plain": [
       "0.11798600000000001"
      ]
     },
     "execution_count": 548,
     "metadata": {},
     "output_type": "execute_result"
    }
   ],
   "source": [
    "regularizer_elbmf(X,0.001,0.002)"
   ]
  },
  {
   "cell_type": "code",
   "execution_count": null,
   "id": "d2382ef1",
   "metadata": {},
   "outputs": [],
   "source": []
  },
  {
   "cell_type": "markdown",
   "id": "53038989",
   "metadata": {},
   "source": [
    "# proxel_1"
   ]
  },
  {
   "cell_type": "code",
   "execution_count": 549,
   "id": "56bbffce",
   "metadata": {},
   "outputs": [
    {
     "data": {
      "text/plain": [
       "proxel_1 (generic function with 1 method)"
      ]
     },
     "execution_count": 549,
     "metadata": {},
     "output_type": "execute_result"
    }
   ],
   "source": [
    "proxel_1(x, k, l) = (x <= 0.5 ? (x - k * sign(x)) : (x - k * sign(x - 1) + l)) / (1 + l)"
   ]
  },
  {
   "cell_type": "code",
   "execution_count": 550,
   "id": "f328f089",
   "metadata": {},
   "outputs": [
    {
     "data": {
      "text/plain": [
       "3.230769230769231"
      ]
     },
     "execution_count": 550,
     "metadata": {},
     "output_type": "execute_result"
    }
   ],
   "source": [
    "proxel_1(4,0.1,0.3)"
   ]
  },
  {
   "cell_type": "markdown",
   "id": "1533fc15",
   "metadata": {},
   "source": [
    "# proxelp"
   ]
  },
  {
   "cell_type": "code",
   "execution_count": 551,
   "id": "74e44544",
   "metadata": {},
   "outputs": [
    {
     "data": {
      "text/plain": [
       "proxelp (generic function with 1 method)"
      ]
     },
     "execution_count": 551,
     "metadata": {},
     "output_type": "execute_result"
    }
   ],
   "source": [
    "proxelp(x, k, l)= max(proxel_1(x, k, l), zero(x))"
   ]
  },
  {
   "cell_type": "code",
   "execution_count": 552,
   "id": "02fd2c56",
   "metadata": {},
   "outputs": [
    {
     "data": {
      "text/plain": [
       "2.5833333333333335"
      ]
     },
     "execution_count": 552,
     "metadata": {},
     "output_type": "execute_result"
    }
   ],
   "source": [
    "proxelp(3, 0.1, 0.2)"
   ]
  },
  {
   "cell_type": "markdown",
   "id": "b63c56a3",
   "metadata": {},
   "source": [
    "# prox_elbmf!"
   ]
  },
  {
   "cell_type": "code",
   "execution_count": 553,
   "id": "957a67a2",
   "metadata": {},
   "outputs": [
    {
     "data": {
      "text/plain": [
       "prox_elbmf! (generic function with 1 method)"
      ]
     },
     "execution_count": 553,
     "metadata": {},
     "output_type": "execute_result"
    }
   ],
   "source": [
    "prox_elbmf!(X, k, l)= X .= proxelp.(X, k, l)"
   ]
  },
  {
   "cell_type": "code",
   "execution_count": 554,
   "id": "622292a6",
   "metadata": {},
   "outputs": [
    {
     "data": {
      "text/plain": [
       "3×4 Matrix{Float64}:\n",
       " 1.97059  0.647059   1.18627   1.18627\n",
       " 2.06863  0.0882353  0.617647  0.284314\n",
       " 6.18627  1.18627    5.5       0.176471"
      ]
     },
     "execution_count": 554,
     "metadata": {},
     "output_type": "execute_result"
    }
   ],
   "source": [
    "prox_elbmf!(X, 0.01, 0.02)"
   ]
  },
  {
   "cell_type": "markdown",
   "id": "b04e4f9c",
   "metadata": {},
   "source": [
    "# proxelb"
   ]
  },
  {
   "cell_type": "code",
   "execution_count": 555,
   "id": "00bd6d55",
   "metadata": {},
   "outputs": [
    {
     "data": {
      "text/plain": [
       "proxelb (generic function with 1 method)"
      ]
     },
     "execution_count": 555,
     "metadata": {},
     "output_type": "execute_result"
    }
   ],
   "source": [
    "proxelb(x, k, l)= clamp(proxel_1(x, k, l), zero(x), one(x))"
   ]
  },
  {
   "cell_type": "code",
   "execution_count": 556,
   "id": "a841f0ce",
   "metadata": {},
   "outputs": [
    {
     "data": {
      "text/plain": [
       "1.0"
      ]
     },
     "execution_count": 556,
     "metadata": {},
     "output_type": "execute_result"
    }
   ],
   "source": [
    "proxelb(2.3,0.01,0.02)"
   ]
  },
  {
   "cell_type": "markdown",
   "id": "e89853d9",
   "metadata": {},
   "source": [
    "# prox_elbmf_box"
   ]
  },
  {
   "cell_type": "code",
   "execution_count": null,
   "id": "bf9aaf90",
   "metadata": {},
   "outputs": [],
   "source": []
  },
  {
   "cell_type": "code",
   "execution_count": 557,
   "id": "ec8157e8",
   "metadata": {},
   "outputs": [
    {
     "data": {
      "text/plain": [
       "prox_elbmf_box! (generic function with 1 method)"
      ]
     },
     "execution_count": 557,
     "metadata": {},
     "output_type": "execute_result"
    }
   ],
   "source": [
    "prox_elbmf_box!(X, k, l)= X .= proxelb.(X, k, l)"
   ]
  },
  {
   "cell_type": "code",
   "execution_count": 558,
   "id": "9f0750e3",
   "metadata": {},
   "outputs": [
    {
     "data": {
      "text/plain": [
       "3×4 Matrix{Float64}:\n",
       " 1.0  0.663783   1.0       1.0\n",
       " 1.0  0.0767013  0.634948  0.268935\n",
       " 1.0  1.0        1.0       0.163206"
      ]
     },
     "execution_count": 558,
     "metadata": {},
     "output_type": "execute_result"
    }
   ],
   "source": [
    "prox_elbmf_box!(X,0.01,0.02)"
   ]
  },
  {
   "cell_type": "markdown",
   "id": "c35ca0f6",
   "metadata": {},
   "source": [
    "# struct Elastic BMF and PALM"
   ]
  },
  {
   "cell_type": "code",
   "execution_count": 559,
   "id": "21feac11",
   "metadata": {},
   "outputs": [],
   "source": [
    "mutable struct ElasticBMF{T}\n",
    "    l1reg::T\n",
    "    l2reg::T\n",
    "end\n",
    "\n",
    "struct PALM end\n",
    "struct iPALM{T} beta::T end"
   ]
  },
  {
   "cell_type": "markdown",
   "id": "419d4d48",
   "metadata": {},
   "source": [
    "# rounding"
   ]
  },
  {
   "cell_type": "code",
   "execution_count": 560,
   "id": "d0e7106a",
   "metadata": {},
   "outputs": [
    {
     "data": {
      "text/plain": [
       "rounding! (generic function with 2 methods)"
      ]
     },
     "execution_count": 560,
     "metadata": {},
     "output_type": "execute_result"
    }
   ],
   "source": [
    "rounding!(fn::ElasticBMF, _, args...) = \n",
    "foreach(X -> X .= round.(clamp.(prox_elbmf!(X, 0.5, 1e20), 0, 1)), args)\n",
    "rounding!(fn, _...)                   = nothing"
   ]
  },
  {
   "cell_type": "code",
   "execution_count": 561,
   "id": "d5b117ea",
   "metadata": {},
   "outputs": [
    {
     "data": {
      "text/plain": [
       "ElasticBMF{Float64}(0.001, 0.002)"
      ]
     },
     "execution_count": 561,
     "metadata": {},
     "output_type": "execute_result"
    }
   ],
   "source": [
    "fn = ElasticBMF(0.001,0.002)"
   ]
  },
  {
   "cell_type": "code",
   "execution_count": 562,
   "id": "2512a443",
   "metadata": {},
   "outputs": [
    {
     "data": {
      "text/plain": [
       "PALM()"
      ]
     },
     "execution_count": 562,
     "metadata": {},
     "output_type": "execute_result"
    }
   ],
   "source": [
    "p = PALM()"
   ]
  },
  {
   "cell_type": "code",
   "execution_count": 563,
   "id": "b51b20a0",
   "metadata": {
    "scrolled": true
   },
   "outputs": [
    {
     "data": {
      "text/plain": [
       "5×3 Matrix{Float64}:\n",
       " 1.9  2.5    1.05\n",
       " 2.2  4.2    0.9\n",
       " 4.1  0.36   3.1\n",
       " 5.0  3.1    2.36\n",
       " 1.2  7.002  6.3"
      ]
     },
     "execution_count": 563,
     "metadata": {},
     "output_type": "execute_result"
    }
   ],
   "source": [
    "U"
   ]
  },
  {
   "cell_type": "code",
   "execution_count": 564,
   "id": "c4d244f8",
   "metadata": {},
   "outputs": [
    {
     "data": {
      "text/plain": [
       "3×5 Matrix{Float64}:\n",
       " 1.2    6.21  1.09  8.01  2.36\n",
       " 2.1    7.0   6.36  0.63  1.01\n",
       " 1.002  9.0   6.2   5.8   0.05"
      ]
     },
     "execution_count": 564,
     "metadata": {},
     "output_type": "execute_result"
    }
   ],
   "source": [
    "V"
   ]
  },
  {
   "cell_type": "code",
   "execution_count": 565,
   "id": "e0add31a",
   "metadata": {},
   "outputs": [],
   "source": [
    "# rounding!(fn,A,U,V)"
   ]
  },
  {
   "cell_type": "code",
   "execution_count": 566,
   "id": "27ececed",
   "metadata": {},
   "outputs": [
    {
     "data": {
      "text/plain": [
       "5×3 Matrix{Float64}:\n",
       " 1.9  2.5    1.05\n",
       " 2.2  4.2    0.9\n",
       " 4.1  0.36   3.1\n",
       " 5.0  3.1    2.36\n",
       " 1.2  7.002  6.3"
      ]
     },
     "execution_count": 566,
     "metadata": {},
     "output_type": "execute_result"
    }
   ],
   "source": [
    "U"
   ]
  },
  {
   "cell_type": "code",
   "execution_count": 567,
   "id": "cfce4285",
   "metadata": {},
   "outputs": [
    {
     "data": {
      "text/plain": [
       "3×5 Matrix{Float64}:\n",
       " 1.2    6.21  1.09  8.01  2.36\n",
       " 2.1    7.0   6.36  0.63  1.01\n",
       " 1.002  9.0   6.2   5.8   0.05"
      ]
     },
     "execution_count": 567,
     "metadata": {},
     "output_type": "execute_result"
    }
   ],
   "source": [
    "V"
   ]
  },
  {
   "cell_type": "markdown",
   "id": "fafd7fd1",
   "metadata": {},
   "source": [
    "# apply_rate"
   ]
  },
  {
   "cell_type": "code",
   "execution_count": 568,
   "id": "0c0e375d",
   "metadata": {},
   "outputs": [
    {
     "data": {
      "text/plain": [
       "apply_rate! (generic function with 2 methods)"
      ]
     },
     "execution_count": 568,
     "metadata": {},
     "output_type": "execute_result"
    }
   ],
   "source": [
    "apply_rate!(fn::ElasticBMF, fn0, nu) = fn.l2reg = fn0.l2reg * nu\n",
    "apply_rate!(fn, _...)                = nothing"
   ]
  },
  {
   "cell_type": "code",
   "execution_count": 569,
   "id": "4267e17f",
   "metadata": {},
   "outputs": [
    {
     "data": {
      "text/plain": [
       "0.004"
      ]
     },
     "execution_count": 569,
     "metadata": {},
     "output_type": "execute_result"
    }
   ],
   "source": [
    "apply_rate!(fn,fn,2)"
   ]
  },
  {
   "cell_type": "code",
   "execution_count": 570,
   "id": "e378a832",
   "metadata": {},
   "outputs": [
    {
     "data": {
      "text/plain": [
       "0.001"
      ]
     },
     "execution_count": 570,
     "metadata": {},
     "output_type": "execute_result"
    }
   ],
   "source": [
    "fn.l1reg"
   ]
  },
  {
   "cell_type": "code",
   "execution_count": 571,
   "id": "08a325ee",
   "metadata": {},
   "outputs": [
    {
     "data": {
      "text/plain": [
       "0.004"
      ]
     },
     "execution_count": 571,
     "metadata": {},
     "output_type": "execute_result"
    }
   ],
   "source": [
    "fn.l2reg"
   ]
  },
  {
   "cell_type": "markdown",
   "id": "883a4be0",
   "metadata": {},
   "source": [
    "# reducemf_impl PALM"
   ]
  },
  {
   "cell_type": "code",
   "execution_count": 572,
   "id": "00016e8e",
   "metadata": {},
   "outputs": [
    {
     "data": {
      "text/plain": [
       "reducemf_impl! (generic function with 5 methods)"
      ]
     },
     "execution_count": 572,
     "metadata": {},
     "output_type": "execute_result"
    }
   ],
   "source": [
    "function reducemf_impl!(prox!, ::Type{PALM},  A, U, V)\n",
    "    VVt, AVt = V * V', A * V'\n",
    "    grad(x) = x * VVt .- AVt\n",
    "    L = max(norm(VVt), 1e-4)\n",
    "\n",
    "    step_size = 1 / (1.1 * L)\n",
    "    \n",
    "    U .= U .- grad(U) * step_size\n",
    "    \n",
    "    prox!(U, step_size)\n",
    "end"
   ]
  },
  {
   "cell_type": "code",
   "execution_count": 573,
   "id": "d0a057b7",
   "metadata": {},
   "outputs": [],
   "source": [
    "# reducemf_impl!(A,U,V)"
   ]
  },
  {
   "cell_type": "code",
   "execution_count": 617,
   "id": "0d6ecf40",
   "metadata": {},
   "outputs": [
    {
     "data": {
      "text/plain": [
       "5×3 Matrix{Float64}:\n",
       " 1.9  2.5    1.05\n",
       " 2.2  4.2    0.9\n",
       " 4.1  0.36   3.1\n",
       " 5.0  3.1    2.36\n",
       " 1.2  7.002  6.3"
      ]
     },
     "execution_count": 617,
     "metadata": {},
     "output_type": "execute_result"
    }
   ],
   "source": [
    "U"
   ]
  },
  {
   "cell_type": "code",
   "execution_count": 618,
   "id": "ffdb050e",
   "metadata": {},
   "outputs": [
    {
     "data": {
      "text/plain": [
       "3×5 Matrix{Float64}:\n",
       " 1.2    6.21  1.09  8.01  2.36\n",
       " 2.1    7.0   6.36  0.63  1.01\n",
       " 1.002  9.0   6.2   5.8   0.05"
      ]
     },
     "execution_count": 618,
     "metadata": {},
     "output_type": "execute_result"
    }
   ],
   "source": [
    "V"
   ]
  },
  {
   "cell_type": "code",
   "execution_count": null,
   "id": "e53e3705",
   "metadata": {},
   "outputs": [],
   "source": []
  },
  {
   "cell_type": "markdown",
   "id": "7e094cdf",
   "metadata": {},
   "source": [
    "# reducemf_impl iPALM"
   ]
  },
  {
   "cell_type": "code",
   "execution_count": 687,
   "id": "c72cea40",
   "metadata": {},
   "outputs": [
    {
     "data": {
      "text/plain": [
       "reducemf_impl! (generic function with 5 methods)"
      ]
     },
     "execution_count": 687,
     "metadata": {},
     "output_type": "execute_result"
    }
   ],
   "source": [
    "function reducemf_impl!(prox!,opt::iPALM,  A, U, V, U_)\n",
    "    VVt, AVt = V * V', A * V'\n",
    "    grad(x) = x * VVt .- AVt\n",
    "    L = max(norm(VVt), 1e-4)\n",
    "\n",
    "    @. U = U + opt.beta * (U - U_)\n",
    "    @. U_ = U\n",
    "\n",
    "    step_size = 2 * (1 - opt.beta) / (1 + 2 * opt.beta) / L\n",
    "#     println(\"grad\",grad(U))\n",
    "#     println(\"step size\",step_size)\n",
    "    U .= U .- grad(U) * step_size\n",
    "    prox!(U, step_size)\n",
    "end"
   ]
  },
  {
   "cell_type": "code",
   "execution_count": 646,
   "id": "1a3e4fc7",
   "metadata": {},
   "outputs": [],
   "source": [
    "# ip=iPALM(0.4)\n",
    "# U_=deepcopy(U)\n",
    "# U_"
   ]
  },
  {
   "cell_type": "code",
   "execution_count": 647,
   "id": "f8e07313",
   "metadata": {},
   "outputs": [],
   "source": [
    "# U"
   ]
  },
  {
   "cell_type": "code",
   "execution_count": 648,
   "id": "137bf3d4",
   "metadata": {},
   "outputs": [],
   "source": [
    "# reducemf_impl!(ip, A, U, V, U_)"
   ]
  },
  {
   "cell_type": "code",
   "execution_count": 649,
   "id": "0008765a",
   "metadata": {},
   "outputs": [],
   "source": [
    "# U"
   ]
  },
  {
   "cell_type": "code",
   "execution_count": 650,
   "id": "ab98873a",
   "metadata": {
    "scrolled": true
   },
   "outputs": [],
   "source": [
    "# U_"
   ]
  },
  {
   "cell_type": "code",
   "execution_count": 651,
   "id": "cde6cc3c",
   "metadata": {},
   "outputs": [],
   "source": [
    "# V"
   ]
  },
  {
   "cell_type": "code",
   "execution_count": 581,
   "id": "02fb95f8",
   "metadata": {},
   "outputs": [],
   "source": [
    "# reducemf_impl!(ip, A, U, V, U_)"
   ]
  },
  {
   "cell_type": "code",
   "execution_count": null,
   "id": "55ff85b3",
   "metadata": {},
   "outputs": [],
   "source": []
  },
  {
   "cell_type": "markdown",
   "id": "bd384760",
   "metadata": {},
   "source": [
    "# reducemf"
   ]
  },
  {
   "cell_type": "code",
   "execution_count": 688,
   "id": "6e8da2ee",
   "metadata": {},
   "outputs": [
    {
     "data": {
      "text/plain": [
       "reducemf! (generic function with 2 methods)"
      ]
     },
     "execution_count": 688,
     "metadata": {},
     "output_type": "execute_result"
    }
   ],
   "source": [
    "reducemf!(fn::ElasticBMF, opt::Type{PALM}, A, U, V)= \n",
    "reducemf_impl!((x, alpha) -> prox_elbmf!(x, fn.l1reg * alpha, fn.l2reg * alpha), opt, A, U, V) "
   ]
  },
  {
   "cell_type": "markdown",
   "id": "c2c31e54",
   "metadata": {},
   "source": [
    "# reduceemf _iPALM"
   ]
  },
  {
   "cell_type": "code",
   "execution_count": 689,
   "id": "ff05002d",
   "metadata": {},
   "outputs": [
    {
     "data": {
      "text/plain": [
       "reducemf! (generic function with 2 methods)"
      ]
     },
     "execution_count": 689,
     "metadata": {},
     "output_type": "execute_result"
    }
   ],
   "source": [
    "reducemf!(fn::ElasticBMF, opt::iPALM, A, U, V, U_)=\n",
    "reducemf_impl!((x, alpha) -> prox_elbmf!(x, fn.l1reg * alpha, fn.l2reg * alpha), opt, A, U, V, U_) "
   ]
  },
  {
   "cell_type": "code",
   "execution_count": null,
   "id": "131aff37",
   "metadata": {},
   "outputs": [],
   "source": []
  },
  {
   "cell_type": "code",
   "execution_count": 690,
   "id": "8d2fbdeb",
   "metadata": {},
   "outputs": [
    {
     "name": "stdout",
     "output_type": "stream",
     "text": [
      "A=[1 0 0 1 0; 1 0 1 0 1; 0 1 1 0 1; 0 1 0 0 1; 1 1 1 0 1]\n",
      "U=[1.9 2.5 1.05; 2.2 4.2 0.9; 4.1 0.36 3.1; 5.0 3.1 2.36; 1.2 7.002 6.3]\n",
      "V=[1.2 6.21 1.09 8.01 2.36; 2.1 7.0 6.36 0.63 1.01; 1.002 9.0 6.2 5.8 0.05]\n",
      "UV=[8.5821 38.749 24.481 22.884 7.0615000000000006; 12.3618 51.162000000000006 34.690000000000005 25.488 9.479000000000001; 8.7822 55.881 25.9786 51.04779999999999 10.194599999999998; 14.87472 73.99 39.798 55.691 15.049; 22.4568 113.166 84.90071999999999 50.56326 10.219019999999999]\n",
      "A=[1 0 0 1 0; 1 0 1 0 1; 0 1 1 0 1; 0 1 0 0 1; 1 1 1 0 1]\n",
      "U=[0.20922548202057892 0.8257894351288405 0.0; 0.06206121748191854 1.9586670401624988 0.0; 1.1789761393602283 0.0 0.0; 1.4126980958533277 0.05122686557641868 0.0; 0.0 1.9300963385142196 0.0]\n",
      "V=[1.2 6.21 1.09 8.01 2.36; 2.1 7.0 6.36 0.63 1.01; 1.002 9.0 6.2 5.8 0.05]\n",
      "UV=[1.9852283921952598 7.0798162892496785 5.480076582821857 2.196143455116007 1.3278194670486951; 4.18767424531955 14.096069441700205 12.524769102488785 1.7310705873325418 2.1247181838214515; 1.414771367232274 7.3214418254270175 1.2850839919026489 9.443598876275429 2.7823836888901385; 1.8028141327344724 9.131443234284095 1.8656437895461502 11.3479846730983 3.385706640446036; 4.053202310879861 13.510674369599537 12.275412712950438 1.2159606932639584 1.9493973018993618]\n"
     ]
    }
   ],
   "source": [
    "println(\"A=\",A)\n",
    "println(\"U=\",U)\n",
    "println(\"V=\",V)\n",
    "println(\"UV=\",(U*V))\n",
    "\n",
    "U_=copy(U)\n",
    "ip = iPALM(0.2)\n",
    "\n",
    "reducemf!(fn, ip, A, U, V, U_)\n",
    "\n",
    "println(\"A=\",A)\n",
    "println(\"U=\",U)\n",
    "println(\"V=\",V)\n",
    "println(\"UV=\",(U*V))"
   ]
  },
  {
   "cell_type": "code",
   "execution_count": null,
   "id": "eb269f42",
   "metadata": {},
   "outputs": [],
   "source": []
  },
  {
   "cell_type": "markdown",
   "id": "a64e0bc7",
   "metadata": {},
   "source": [
    "# factorize palm"
   ]
  },
  {
   "cell_type": "code",
   "execution_count": 584,
   "id": "ce8b2c74",
   "metadata": {},
   "outputs": [
    {
     "data": {
      "text/plain": [
       "factorize_palm! (generic function with 1 method)"
      ]
     },
     "execution_count": 584,
     "metadata": {},
     "output_type": "execute_result"
    }
   ],
   "source": [
    "function factorize_palm!(\n",
    "    fn::ElasticBMF,\n",
    "    X,\n",
    "    U,\n",
    "    V,\n",
    "    regularization_rate,\n",
    "    maxiter,\n",
    "    tol;\n",
    "    callback = nothing\n",
    ")\n",
    "    ell = typemax(tol)\n",
    "    fn0 = deepcopy(fn)\n",
    "\n",
    "    for t = 1:maxiter\n",
    "        fn.l2reg = fn0.l2reg * regularization_rate\n",
    "\n",
    "        reducemf!(fn, PALM, X, U, V)\n",
    "        reducemf!(fn, PALM, X', V', U')\n",
    "\n",
    "#         ell, ell0 = norm(X .- U * V)^2, ell\n",
    "\n",
    "#         (callback !== nothing) && callback((U, V), ell)\n",
    "#         (abs(ell - ell0) < tol) && break\n",
    "    end\n",
    "    fn = fn0\n",
    "    U, V\n",
    "end"
   ]
  },
  {
   "cell_type": "markdown",
   "id": "56563c5f",
   "metadata": {},
   "source": [
    "# factorize iPALM"
   ]
  },
  {
   "cell_type": "code",
   "execution_count": 662,
   "id": "e5575f4b",
   "metadata": {
    "scrolled": false
   },
   "outputs": [
    {
     "data": {
      "text/plain": [
       "factorize_ipalm! (generic function with 1 method)"
      ]
     },
     "execution_count": 662,
     "metadata": {},
     "output_type": "execute_result"
    }
   ],
   "source": [
    "function factorize_ipalm!(\n",
    "    fn::ElasticBMF,\n",
    "    X,\n",
    "    U,\n",
    "    V,\n",
    "    regularization_rate,\n",
    "    maxiter,\n",
    "    tol,\n",
    "    beta;\n",
    "    callback = nothing,\n",
    ")\n",
    "    if beta == 0\n",
    "        return factorize_palm!(fn, X, U, V, regularization_rate, maxiter, tol; callback=callback)\n",
    "    end\n",
    "\n",
    "    ell = typemax(tol)\n",
    "    fn0 = deepcopy(fn)\n",
    "\n",
    "    ipalm = iPALM(beta)\n",
    "    U_    = copy(U)\n",
    "    Vt_   = copy(V')\n",
    "\n",
    "    for t = 1:maxiter\n",
    "        fn.l2reg = fn0.l2reg * regularization_rate\n",
    "\n",
    "        reducemf!(fn, ipalm, X, U, V, U_)\n",
    "        reducemf!(fn, ipalm, X', V', U', Vt_)\n",
    "\n",
    "#         ell, ell0 = norm(X .- U * V)^2, ell\n",
    "\n",
    "#         (callback !== nothing) && callback((U, V), ell)\n",
    "#         (abs(ell - ell0) < tol) && break\n",
    "    end\n",
    "    fn = fn0\n",
    "    U, V\n",
    "end"
   ]
  },
  {
   "cell_type": "code",
   "execution_count": 540,
   "id": "2e9dc4cd",
   "metadata": {
    "scrolled": false
   },
   "outputs": [
    {
     "name": "stdout",
     "output_type": "stream",
     "text": [
      "A=[1 0 0 1 0; 1 0 1 0 1; 0 1 1 0 1; 0 1 0 0 1; 1 1 1 0 1]\n",
      "U=[1.9 2.5 1.05; 2.2 4.2 0.9; 4.1 0.36 3.1; 5.0 3.1 2.36; 1.2 7.002 6.3]\n",
      "V=[1.2 6.21 1.09 8.01 2.36; 2.1 7.0 6.36 0.63 1.01; 1.002 9.0 6.2 5.8 0.05]\n",
      "UV=[8.5821 38.749 24.481 22.884 7.0615000000000006; 12.3618 51.162000000000006 34.690000000000005 25.488 9.479000000000001; 8.7822 55.881 25.9786 51.04779999999999 10.194599999999998; 14.87472 73.99 39.798 55.691 15.049; 22.4568 113.166 84.90071999999999 50.56326 10.219019999999999]\n"
     ]
    }
   ],
   "source": [
    "println(\"A=\",A)\n",
    "println(\"U=\",U)\n",
    "println(\"V=\",V)\n",
    "println(\"UV=\",(U*V))"
   ]
  },
  {
   "cell_type": "markdown",
   "id": "ffa85a2c",
   "metadata": {},
   "source": [
    "# PALM"
   ]
  },
  {
   "cell_type": "code",
   "execution_count": 671,
   "id": "034f6be5",
   "metadata": {
    "scrolled": true
   },
   "outputs": [
    {
     "data": {
      "text/plain": [
       "([0.0 1.5719243403963366 0.08600261034479993; 0.3411537896918334 2.824373525748725 0.0; … ; 0.7749345648247725 0.0 1.8657644742611026e-5; 0.7717779148672473 2.3240699665585813 0.004529332896911687], [0.0 1.1005562422902533 … 0.0 1.0814167798121372; 0.4023145302695297 0.0 … 0.020136055258626436 0.13526647328478447; 2.220027864760263 4.56291352497883 … 8.585739135866586 0.0])"
      ]
     },
     "execution_count": 671,
     "metadata": {},
     "output_type": "execute_result"
    }
   ],
   "source": [
    "U,V = factorize_palm!(fn, A, U, V, 0.01, 1000,0.01)"
   ]
  },
  {
   "cell_type": "code",
   "execution_count": 672,
   "id": "106f8eb1",
   "metadata": {},
   "outputs": [
    {
     "name": "stdout",
     "output_type": "stream",
     "text": [
      "A=[1 0 0 1 0; 1 0 1 0 1; 0 1 1 0 1; 0 1 0 0 1; 1 1 1 0 1]\n",
      "U=[0.0 1.5719243403963366 0.08600261034479993; 0.3411537896918334 2.824373525748725 0.0; 0.987044312834465 0.2208686375108928 0.0; 0.7749345648247725 0.0 1.8657644742611026e-5; 0.7717779148672473 2.3240699665585813 0.004529332896911687]\n",
      "V=[0.0 1.1005562422902533 0.6532594914044461 0.0 1.0814167798121372; 0.4023145302695297 0.0 0.20326979243077564 0.020136055258626436 0.13526647328478447; 2.220027864760263 4.56291352497883 1.319369623209409 8.585739135866586 0.0]\n",
      "UV=[0.8233361940333676 0.39242247392577184 0.43299396599489154 0.7700483328046338 0.21262866179592352; 1.1362865083172937 0.37545893282632353 0.7969717714707077 0.0568717413854779 0.750972478736192; 0.08885866215146586 1.086297779907064 0.689691987897201 0.004447423089816869 1.0972824039726448; 4.14204912193943e-5 0.8529442059039246 0.5062579760188707 0.00016018967064973093 0.8380272416579254; 0.9450623621494565 0.8700519562033546 0.9825603320779127 0.08568527198392034 1.1489823354693307]\n"
     ]
    }
   ],
   "source": [
    "println(\"A=\",A)\n",
    "println(\"U=\",U)\n",
    "println(\"V=\",V)\n",
    "println(\"UV=\",(U*V))"
   ]
  },
  {
   "cell_type": "code",
   "execution_count": 494,
   "id": "e5fa763d",
   "metadata": {},
   "outputs": [],
   "source": [
    "rounding!(fn,A,U,V)"
   ]
  },
  {
   "cell_type": "code",
   "execution_count": 586,
   "id": "29bca19d",
   "metadata": {},
   "outputs": [
    {
     "name": "stdout",
     "output_type": "stream",
     "text": [
      "A=[1 0 0 1 0; 1 0 1 0 1; 0 1 1 0 1; 0 1 0 0 1; 1 1 1 0 1]\n",
      "U=[1.9 2.5 1.05; 2.2 4.2 0.9; 4.1 0.36 3.1; 5.0 3.1 2.36; 1.2 7.002 6.3]\n",
      "V=[1.2 6.21 1.09 8.01 2.36; 2.1 7.0 6.36 0.63 1.01; 1.002 9.0 6.2 5.8 0.05]\n",
      "UV=[8.5821 38.749 24.481 22.884 7.0615000000000006; 12.3618 51.162000000000006 34.690000000000005 25.488 9.479000000000001; 8.7822 55.881 25.9786 51.04779999999999 10.194599999999998; 14.87472 73.99 39.798 55.691 15.049; 22.4568 113.166 84.90071999999999 50.56326 10.219019999999999]\n"
     ]
    }
   ],
   "source": [
    "println(\"A=\",A)\n",
    "println(\"U=\",U)\n",
    "println(\"V=\",V)\n",
    "println(\"UV=\",(U*V))"
   ]
  },
  {
   "cell_type": "code",
   "execution_count": null,
   "id": "3d478fb1",
   "metadata": {},
   "outputs": [],
   "source": []
  },
  {
   "cell_type": "code",
   "execution_count": 493,
   "id": "8db184cd",
   "metadata": {},
   "outputs": [],
   "source": []
  },
  {
   "cell_type": "markdown",
   "id": "cadbd7de",
   "metadata": {},
   "source": [
    "# iPALM"
   ]
  },
  {
   "cell_type": "code",
   "execution_count": 663,
   "id": "93a3f1c0",
   "metadata": {
    "scrolled": true
   },
   "outputs": [
    {
     "data": {
      "text/plain": [
       "([0.0 0.9895294731510296 0.0; 0.02713317992174029 0.0 0.2809473227871069; … ; 0.3594992435862768 0.0 0.0; 0.2921766577871531 0.1620061955792651 0.19079526849981762], [0.0 2.914127141374017 … 0.0 2.2235042300378627; 1.034316685933416 0.022911900651928135 … 0.9851854130282526 0.0; 3.5769901426165656 0.0 … 0.0 2.823493876372036])"
      ]
     },
     "execution_count": 663,
     "metadata": {},
     "output_type": "execute_result"
    }
   ],
   "source": [
    "U,V = factorize_ipalm!(fn, A, U, V, 0.01, 1000,0.01,0.1)\n"
   ]
  },
  {
   "cell_type": "code",
   "execution_count": 664,
   "id": "857f49f1",
   "metadata": {},
   "outputs": [
    {
     "name": "stdout",
     "output_type": "stream",
     "text": [
      "A=[1 0 0 1 0; 1 0 1 0 1; 0 1 1 0 1; 0 1 0 0 1; 1 1 1 0 1]\n",
      "U=[0.0 0.9895294731510296 0.0; 0.02713317992174029 0.0 0.2809473227871069; 0.36417145146983504 0.0 0.0869870651436886; 0.3594992435862768 0.0 0.0; 0.2921766577871531 0.1620061955792651 0.19079526849981762]\n",
      "V=[0.0 2.914127141374017 0.9195697369561265 0.0 2.2235042300378627; 1.034316685933416 0.022911900651928135 0.0009129232517713749 0.9851854130282526 0.0; 3.5769901426165656 0.0 3.8338479255128255 0.0 2.823493876372036]\n",
      "UV=[1.0234868453030121 0.02267200098099118 0.0009033644643526533 0.9748700027099262 0.0; 1.0049458042039958 0.07906953604172791 1.10206016176915 0.0 0.853583785802882; 0.3111518745541192 1.061241910841817 0.6683762250826266 0.0 1.0553442085589866; 0.0 1.0476265030381982 0.330584624860559 0.0 0.7993480888094984; 0.8500385059939549 0.8551517983915999 1.0003047559046163 0.15960614070489415 1.1883653067580535]\n"
     ]
    }
   ],
   "source": [
    "println(\"A=\",A)\n",
    "println(\"U=\",U)\n",
    "println(\"V=\",V)\n",
    "println(\"UV=\",(U*V))"
   ]
  },
  {
   "cell_type": "code",
   "execution_count": 422,
   "id": "81af1e9c",
   "metadata": {},
   "outputs": [],
   "source": [
    "rounding!(fn,A,U,V)"
   ]
  },
  {
   "cell_type": "code",
   "execution_count": 423,
   "id": "3cc98c21",
   "metadata": {},
   "outputs": [
    {
     "name": "stdout",
     "output_type": "stream",
     "text": [
      "A=[1 0 0 1 0; 1 0 1 0 1; 0 1 1 0 1; 0 1 0 0 1; 1 1 1 0 1]\n",
      "U=[0.0 0.0 0.0; 0.0 1.0 0.0; 0.0 0.0 0.0; 0.0 0.0 0.0; 0.0 0.0 0.0]\n",
      "V=[0.0 1.0 1.0 0.0 1.0; 1.0 0.0 1.0 0.0 1.0; 1.0 1.0 1.0 1.0 1.0]\n",
      "UV=[0.0 0.0 0.0 0.0 0.0; 1.0 0.0 1.0 0.0 1.0; 0.0 0.0 0.0 0.0 0.0; 0.0 0.0 0.0 0.0 0.0; 0.0 0.0 0.0 0.0 0.0]\n"
     ]
    }
   ],
   "source": [
    "println(\"A=\",A)\n",
    "println(\"U=\",U)\n",
    "println(\"V=\",V)\n",
    "println(\"UV=\",(U*V))"
   ]
  },
  {
   "cell_type": "code",
   "execution_count": null,
   "id": "1aa1fdaa",
   "metadata": {},
   "outputs": [],
   "source": []
  },
  {
   "cell_type": "code",
   "execution_count": 38,
   "id": "fbe12651",
   "metadata": {},
   "outputs": [
    {
     "data": {
      "text/plain": [
       "([0.0 1.0801994454126125 0.04059031192249591; 0.24951132313880725 1.8329595036359525 0.0; … ; 0.5313443398544986 0.0 0.0; 0.5384180097664464 1.4998539623164966 0.002160509628788274], [0.0 1.5796035475235377 … 0.0 1.6071196341726754; 0.6350448907906517 0.0 … 0.10478279785922728 0.1896978472852204; 1.9991525624790127 7.931733369293641 … 7.6482454184970265 0.0])"
      ]
     },
     "execution_count": 38,
     "metadata": {},
     "output_type": "execute_result"
    }
   ],
   "source": [
    "U,V = factorize_palm!(fn, A, U, V, 0.01, 1000,0.01)"
   ]
  },
  {
   "cell_type": "code",
   "execution_count": 39,
   "id": "4ad883db",
   "metadata": {},
   "outputs": [
    {
     "data": {
      "text/plain": [
       "5×3 Matrix{Float64}:\n",
       " 0.0       1.0802    0.0405903\n",
       " 0.249511  1.83296   0.0\n",
       " 0.659201  0.153895  0.00569898\n",
       " 0.531344  0.0       0.0\n",
       " 0.538418  1.49985   0.00216051"
      ]
     },
     "execution_count": 39,
     "metadata": {},
     "output_type": "execute_result"
    }
   ],
   "source": [
    "U"
   ]
  },
  {
   "cell_type": "code",
   "execution_count": 40,
   "id": "a43f0a82",
   "metadata": {},
   "outputs": [
    {
     "data": {
      "text/plain": [
       "3×5 Matrix{Float64}:\n",
       " 0.0       1.5796   0.966943  0.0       1.60712\n",
       " 0.635045  0.0      0.285521  0.104783  0.189698\n",
       " 1.99915   7.93173  4.65472   7.64825   0.0"
      ]
     },
     "execution_count": 40,
     "metadata": {},
     "output_type": "execute_result"
    }
   ],
   "source": [
    "V"
   ]
  },
  {
   "cell_type": "code",
   "execution_count": 41,
   "id": "e5e63602",
   "metadata": {
    "scrolled": true
   },
   "outputs": [
    {
     "data": {
      "text/plain": [
       "5×5 Matrix{Float64}:\n",
       " 0.767121  0.321952  0.497356  0.423631   0.204912\n",
       " 1.16401   0.394129  0.764611  0.192063   0.748703\n",
       " 0.109123  1.08648   0.707877  0.0597128  1.08861\n",
       " 0.0       0.839313  0.51378   0.0        0.853934\n",
       " 0.956794  0.867624  0.958915  0.173683   1.14982"
      ]
     },
     "execution_count": 41,
     "metadata": {},
     "output_type": "execute_result"
    }
   ],
   "source": [
    "U*V"
   ]
  },
  {
   "cell_type": "code",
   "execution_count": 203,
   "id": "25382932",
   "metadata": {},
   "outputs": [],
   "source": [
    "rounding!(fn,A,U,V)"
   ]
  },
  {
   "cell_type": "code",
   "execution_count": 43,
   "id": "eace5271",
   "metadata": {},
   "outputs": [
    {
     "name": "stdout",
     "output_type": "stream",
     "text": [
      "A=[1 0 0 1 0; 1 0 1 0 1; 0 1 1 0 1; 0 1 0 0 1; 1 1 1 0 1]\n",
      "U=[0.0 1.0 0.0; 0.0 1.0 0.0; 1.0 0.0 0.0; 1.0 0.0 0.0; 1.0 1.0 0.0]\n",
      "V=[0.0 1.0 1.0 0.0 1.0; 1.0 0.0 0.0 0.0 0.0; 1.0 1.0 1.0 1.0 0.0]\n",
      "UV=[1.0 0.0 0.0 0.0 0.0; 1.0 0.0 0.0 0.0 0.0; 0.0 1.0 1.0 0.0 1.0; 0.0 1.0 1.0 0.0 1.0; 1.0 1.0 1.0 0.0 1.0]\n"
     ]
    }
   ],
   "source": [
    "println(\"A=\",A)\n",
    "println(\"U=\",U)\n",
    "println(\"V=\",V)\n",
    "println(\"UV=\",(U*V))"
   ]
  },
  {
   "cell_type": "code",
   "execution_count": 44,
   "id": "ce6f5291",
   "metadata": {},
   "outputs": [
    {
     "data": {
      "text/plain": [
       "5×5 Matrix{Float64}:\n",
       " 0.0  0.0   0.0  1.0  0.0\n",
       " 0.0  0.0   1.0  0.0  1.0\n",
       " 0.0  0.0   0.0  0.0  0.0\n",
       " 0.0  0.0  -1.0  0.0  0.0\n",
       " 0.0  0.0   0.0  0.0  0.0"
      ]
     },
     "execution_count": 44,
     "metadata": {},
     "output_type": "execute_result"
    }
   ],
   "source": [
    "A-U*V"
   ]
  },
  {
   "cell_type": "code",
   "execution_count": null,
   "id": "26e1edd8",
   "metadata": {},
   "outputs": [],
   "source": [
    "U = [1 2 4;4,1,0]\n",
    "U = "
   ]
  }
 ],
 "metadata": {
  "kernelspec": {
   "display_name": "Julia 1.8.3",
   "language": "julia",
   "name": "julia-1.8"
  },
  "language_info": {
   "file_extension": ".jl",
   "mimetype": "application/julia",
   "name": "julia",
   "version": "1.8.3"
  }
 },
 "nbformat": 4,
 "nbformat_minor": 5
}
