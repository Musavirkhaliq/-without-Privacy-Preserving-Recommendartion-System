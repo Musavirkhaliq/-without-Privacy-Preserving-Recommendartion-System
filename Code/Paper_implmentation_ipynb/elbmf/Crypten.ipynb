{
 "cells": [
  {
   "cell_type": "code",
   "execution_count": 7,
   "id": "30321d81",
   "metadata": {},
   "outputs": [],
   "source": [
    "import crypten \n",
    "import torch\n",
    "crypten.init()"
   ]
  },
  {
   "cell_type": "code",
   "execution_count": 8,
   "id": "fb6bf307",
   "metadata": {},
   "outputs": [
    {
     "name": "stdout",
     "output_type": "stream",
     "text": [
      "tensor([1., 2., 3.])\n",
      "tensor([4., 5., 6.])\n"
     ]
    }
   ],
   "source": [
    "# Create torch tensor\n",
    "x = torch.tensor([1.0, 2.0, 3.0])\n",
    "\n",
    "# Encrypt x\n",
    "x_enc = crypten.cryptensor(x)\n",
    "\n",
    "# Decrypt x\n",
    "x_dec = x_enc.get_plain_text()   \n",
    "crypten.print(x_dec)\n",
    "\n",
    "\n",
    "# Create python list\n",
    "y = [4.0, 5.0, 6.0]\n",
    "\n",
    "# Encrypt x\n",
    "y_enc = crypten.cryptensor(y)\n",
    "\n",
    "# Decrypt x\n",
    "y_dec = y_enc.get_plain_text()\n",
    "crypten.print(y_dec)"
   ]
  },
  {
   "cell_type": "code",
   "execution_count": 9,
   "id": "91cda31a",
   "metadata": {},
   "outputs": [],
   "source": [
    "z_enc=x_enc*y_enc"
   ]
  },
  {
   "cell_type": "code",
   "execution_count": 10,
   "id": "5b3a3584",
   "metadata": {},
   "outputs": [
    {
     "name": "stdout",
     "output_type": "stream",
     "text": [
      "MPCTensor(\n",
      "\t_tensor=tensor([ 262144,  655360, 1179648])\n",
      "\tplain_text=HIDDEN\n",
      "\tptype=ptype.arithmetic\n",
      ")\n"
     ]
    }
   ],
   "source": [
    "print(z_enc)"
   ]
  },
  {
   "cell_type": "code",
   "execution_count": 11,
   "id": "41dac361",
   "metadata": {},
   "outputs": [
    {
     "name": "stdout",
     "output_type": "stream",
     "text": [
      "tensor([ 4., 10., 18.])\n"
     ]
    }
   ],
   "source": [
    "print(z_enc.get_plain_text())"
   ]
  },
  {
   "cell_type": "code",
   "execution_count": null,
   "id": "1fa13f10",
   "metadata": {},
   "outputs": [],
   "source": []
  }
 ],
 "metadata": {
  "kernelspec": {
   "display_name": "Python 3 (ipykernel)",
   "language": "python",
   "name": "python3"
  },
  "language_info": {
   "codemirror_mode": {
    "name": "ipython",
    "version": 3
   },
   "file_extension": ".py",
   "mimetype": "text/x-python",
   "name": "python",
   "nbconvert_exporter": "python",
   "pygments_lexer": "ipython3",
   "version": "3.9.12"
  }
 },
 "nbformat": 4,
 "nbformat_minor": 5
}
